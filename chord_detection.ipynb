{
 "cells": [
  {
   "cell_type": "code",
   "execution_count": 1,
   "metadata": {},
   "outputs": [
    {
     "name": "stdout",
     "output_type": "stream",
     "text": [
      "3.6.1 |Anaconda custom (64-bit)| (default, May 11 2017, 13:25:24) [MSC v.1900 64 bit (AMD64)]\n",
      "librosa :  0.5.1\n",
      "numpy :  1.12.1\n",
      "scipy :  1.0.1\n",
      "matplotlib :  2.0.2\n"
     ]
    }
   ],
   "source": [
    "#Ref : https://musicinformationretrieval.com/novelty_functions.html\n",
    "\n",
    "import os\n",
    "import sys\n",
    "from os import listdir\n",
    "from os.path import isfile, join\n",
    "import numpy as np\n",
    "import scipy as sp\n",
    "import matplotlib as mpl\n",
    "import matplotlib.pyplot as plt\n",
    "from PIL import Image\n",
    "import librosa\n",
    "import librosa.display\n",
    "import IPython.display as ipd\n",
    "\n",
    "%matplotlib inline\n",
    "\n",
    "print(sys.version)\n",
    "print('librosa : ', librosa.__version__)\n",
    "print('numpy : ', np.__version__)\n",
    "print('scipy : ', sp.__version__)\n",
    "print('matplotlib : ', mpl.__version__)"
   ]
  },
  {
   "cell_type": "code",
   "execution_count": 2,
   "metadata": {},
   "outputs": [
    {
     "name": "stdout",
     "output_type": "stream",
     "text": [
      "['./sample_audio\\\\10sec.wav', './sample_audio\\\\5sec.wav', './sample_audio\\\\kv598-normal.wav', './sample_audio\\\\kv598-varied.wav']\n"
     ]
    }
   ],
   "source": [
    "files = [os.path.join('./sample_audio', f) for f in os.listdir('./sample_audio') if os.path.isfile(os.path.join('./sample_audio', f))]\n",
    "print(files)\n",
    "\n",
    "#files = \"./sample_audio/10sec.wav\""
   ]
  },
  {
   "cell_type": "code",
   "execution_count": 83,
   "metadata": {},
   "outputs": [
    {
     "name": "stdout",
     "output_type": "stream",
     "text": [
      "0.0\n",
      "0.69314718056\n",
      "1.20397280433\n",
      "[0, 1, 0, 0, 1, 0, 0, 0, 0, 1, 0, 0]\n",
      "[0, 0, 1, 0, 0, 0, 1, 0, 0, 0, 0, 1]\n",
      "[0, 1, 0, 0, 1, 0, 0, 0, 1, 0, 0, 0]\n",
      "[0, 0, 0, 0, 0, 0, 1, 0, 0, 1, 0, 1]\n",
      "[0, 0, 0, 0, 1, 0, 0, 0, 1, 0, 0, 1]\n",
      "[0, 1, 0, 0, 0, 0, 1, 0, 0, 1, 0, 0]\n",
      "[0, 0, 0, 0, 0, 0, 1, 0, 1, 0, 0, 1]\n"
     ]
    },
    {
     "name": "stderr",
     "output_type": "stream",
     "text": [
      "C:\\Users\\Chang Minwook\\Anaconda3\\lib\\site-packages\\ipykernel_launcher.py:15: RuntimeWarning: invalid value encountered in true_divide\n",
      "  from ipykernel import kernelapp as app\n",
      "C:\\Users\\Chang Minwook\\Anaconda3\\lib\\site-packages\\ipykernel_launcher.py:15: RuntimeWarning: divide by zero encountered in log\n",
      "  from ipykernel import kernelapp as app\n",
      "C:\\Users\\Chang Minwook\\Anaconda3\\lib\\site-packages\\ipykernel_launcher.py:15: RuntimeWarning: invalid value encountered in multiply\n",
      "  from ipykernel import kernelapp as app\n"
     ]
    }
   ],
   "source": [
    "def zerolistmaker(n):\n",
    "    listofzeros = [0] * n\n",
    "    return listofzeros\n",
    "\n",
    "def kl(p, q):\n",
    "    \"\"\"Kullback-Leibler divergence D(P || Q) for discrete distributions\n",
    "    Parameters\n",
    "    ----------\n",
    "    p, q : array-like, dtype=float, shape=n\n",
    "    Discrete probability distributions.\n",
    "    \"\"\"\n",
    "    p = np.asarray(p, dtype=np.float)\n",
    "    q = np.asarray(q, dtype=np.float)\n",
    "\n",
    "    return np.sum(np.where(p != 0, p * np.log(p / q), 0))\n",
    "\n",
    "print(kl([0,1,0],[0,1,0]))\n",
    "print(kl([0,1,0],[0,0.5,0.5]))\n",
    "print(kl([0,1,0],[0.3,0.3,0.3]))\n",
    "\n",
    "\n",
    "\n",
    "'''Chord\n",
    "\n",
    "A : A C# E \n",
    "Bm : B D F# \n",
    "C#m : C# E G#\n",
    "D : B F# A\n",
    "E : E G# B\n",
    "F#m : F# A C#\n",
    "G# : G# B F#\n",
    "A : A C# E\n",
    "\n",
    "'''\n",
    "\n",
    "c_ = 1\n",
    "d_ = 2\n",
    "e_ = 4\n",
    "f_ = 6\n",
    "g_ = 8\n",
    "a_ = 9\n",
    "b_ = 11\n",
    "\n",
    "a__=[a_,c_,e_]\n",
    "b__=[b_,d_,f_]\n",
    "c__=[c_,e_,g_]\n",
    "d__=[b_,f_,a_]\n",
    "e__=[e_,g_,b_]\n",
    "f__=[f_,a_,c_]\n",
    "g__=[g_,b_,f_]\n",
    "\n",
    "chords__ = [a__,b__,c__,d__,e__,f__,g__]\n",
    "\n",
    "chords = []\n",
    "for chord in chords__:\n",
    "    temp = zerolistmaker(12)\n",
    "    for note in chord:\n",
    "        temp[note] = 1\n",
    "        \n",
    "    #A = [0,1,0,0,1,0,0,0,0,1,0,0]\n",
    "    print(temp)\n",
    "\n",
    "    #normalize\n",
    "    temp /= np.sum(temp)\n",
    "    chords.append(temp)\n"
   ]
  },
  {
   "cell_type": "code",
   "execution_count": 126,
   "metadata": {
    "scrolled": false
   },
   "outputs": [
    {
     "name": "stdout",
     "output_type": "stream",
     "text": [
      "tempo :  151.999080882\n",
      "How many Madi?:  5.912162162162162\n",
      "(12, 302)\n",
      "A :  0.443279595493\n",
      "B :  3.24366805101\n",
      "C# :  0.463501983827\n",
      "D :  2.40807953226\n",
      "E :  1.09910364351\n",
      "F# :  1.77247787258\n",
      "G# :  2.42830192059\n",
      "*** Final: A  -  0.443279595493\n",
      "A :  1.24436827143\n",
      "B :  1.09406206232\n",
      "C# :  1.22602305728\n",
      "D :  1.14494704844\n",
      "E :  0.804733495211\n",
      "F# :  1.56623661052\n",
      "G# :  1.1266018343\n",
      "*** Final: E  -  0.804733495211\n",
      "A :  1.32005341971\n",
      "B :  1.1439739855\n",
      "C# :  1.13938815684\n",
      "D :  1.59566094616\n",
      "E :  0.800570570252\n",
      "F# :  1.93447853275\n",
      "G# :  1.41499568328\n",
      "*** Final: E  -  0.800570570252\n",
      "A :  0.429409706211\n",
      "B :  3.40894667197\n",
      "C# :  0.433887839016\n",
      "D :  2.3995466806\n",
      "E :  1.10524738917\n",
      "F# :  1.72818713045\n",
      "G# :  2.40402481341\n",
      "*** Final: A  -  0.429409706211\n",
      "A :  0.360433004643\n",
      "B :  3.24590532962\n",
      "C# :  0.427152327841\n",
      "D :  2.3072537054\n",
      "E :  0.98308351775\n",
      "F# :  1.75132251549\n",
      "G# :  2.37397302859\n",
      "*** Final: A  -  0.360433004643\n"
     ]
    },
    {
     "name": "stderr",
     "output_type": "stream",
     "text": [
      "C:\\Users\\Chang Minwook\\Anaconda3\\lib\\site-packages\\ipykernel_launcher.py:15: RuntimeWarning: divide by zero encountered in log\n",
      "  from ipykernel import kernelapp as app\n",
      "C:\\Users\\Chang Minwook\\Anaconda3\\lib\\site-packages\\ipykernel_launcher.py:15: RuntimeWarning: invalid value encountered in multiply\n",
      "  from ipykernel import kernelapp as app\n"
     ]
    },
    {
     "data": {
      "image/png": "[encoded data removed]",
      "text/plain": [
       "<matplotlib.figure.Figure at 0x15f413dfac8>"
      ]
     },
     "metadata": {},
     "output_type": "display_data"
    },
    {
     "data": {
      "image/png": "[encoded data removed]",
      "text/plain": [
       "<matplotlib.figure.Figure at 0x15f43212fd0>"
      ]
     },
     "metadata": {},
     "output_type": "display_data"
    }
   ],
   "source": [
    "duration = 7\n",
    "\n",
    "\n",
    "madi_time = 1.184\n",
    "#1마디 : 1.184\n",
    "#못갖춘마디\n",
    "y, sr = librosa.load(files[2],offset = 1.184/6, duration = duration)\n",
    "\n",
    "onset_env = librosa.onset.onset_strength(y, sr=sr)\n",
    "tempo = librosa.beat.estimate_tempo(onset_env, sr=sr)\n",
    "\n",
    "print( \"tempo : \", tempo) #(beats per minute)\n",
    "print(\"How many Madi?: \",duration/madi_time) \n",
    "\n",
    "half_measure = 60 / tempo\n",
    "duration = len(y)/sr\n",
    "\n",
    "'''\n",
    "About STFT function\n",
    "(y, n_fft=2048, hop_length=512, win_length=2048, window='hann', center=True, dtype=<class 'numpy.complex64'>, pad_mode='reflect\n",
    "[shape=(1 + n_fft/2, t = 1 + sr*time/hop_length), dtype=dtype]\n",
    "'''\n",
    "\n",
    "plt.figure(figsize=(10,4))\n",
    "librosa.display.waveplot(y,sr)\n",
    "plt.title(files[1] + \"_waveplot\")\n",
    "\n",
    "S = np.abs(librosa.stft(y))\n",
    "chroma = librosa.feature.chroma_stft(S=S, sr=sr)\n",
    "\n",
    "print(chroma.shape)\n",
    "\n",
    "pointer = 0\n",
    "\n",
    "\n",
    "\n",
    "def chordname(idx):\n",
    "    \n",
    "    if idx == 0:\n",
    "        return \"A\"\n",
    "    elif idx == 1:\n",
    "        return \"B\"\n",
    "    elif idx == 2:\n",
    "        return \"C#\"\n",
    "    elif idx == 3:\n",
    "        return \"D\"\n",
    "    elif idx == 4:\n",
    "        return \"E\"\n",
    "    elif idx == 5:\n",
    "        return \"F#\"\n",
    "    elif idx ==6 :\n",
    "        return \"G#\"\n",
    "    else:\n",
    "        return \"?\"\n",
    "'''\n",
    "#Print\n",
    "print(chroma.shape)\n",
    "print(chroma)\n",
    "print(chroma[0].shape)\n",
    "print(chroma.T.shape)\n",
    "print(chroma.T[0:50])\n",
    "''' \n",
    "    \n",
    "for i in range(int(duration/madi_time)):\n",
    "    \n",
    "    temp = pointer\n",
    "    pointer += sr*madi_time/512#hop_length\n",
    "    #print(pointer)\n",
    "    #MW : 제곱\n",
    "    chroma.T[chroma.T<0.5] = 0.01\n",
    "    chroma.T[chroma.T==1] = 0.8\n",
    "    \n",
    "    sum_ = np.sum(chroma.T[:][int(temp):int(pointer)], axis = 0)\n",
    "    #sum_[sum_<np.max(sum_)/4] = 0.001\n",
    "    sum_ /= np.sum(sum_)\n",
    "    score = 100\n",
    "    score_idx = 0\n",
    "    for i in range(len(chords)):\n",
    "\n",
    "        new_score = kl(chords[i], sum_)\n",
    "        print(chordname(i),\": \", new_score)\n",
    "        if score >new_score:\n",
    "            score = new_score\n",
    "            score_idx = i\n",
    "    #print score\n",
    "    \n",
    "    print(\"*** Final:\",chordname(score_idx),\" - \", score)\n",
    "    #print(chordname(score_idx))\n",
    "    \n",
    "#Plotting\n",
    "plt.figure(figsize=(10, 4))\n",
    "librosa.display.specshow(chroma, y_axis='chroma', x_axis='time')\n",
    "plt.colorbar()\n",
    "plt.title('Chromagram')\n",
    "plt.tight_layout()\n",
    "\n",
    "\n"
   ]
  },
  {
   "cell_type": "code",
   "execution_count": 127,
   "metadata": {},
   "outputs": [
    {
     "name": "stdout",
     "output_type": "stream",
     "text": [
      "tempo :  151.999080882\n",
      "0.394739229025\n"
     ]
    }
   ],
   "source": [
    "\n",
    "y, sr = librosa.load(files[2])\n",
    "\n",
    "onset_env = librosa.onset.onset_strength(y, sr=sr)\n",
    "\n",
    "tempo = librosa.beat.estimate_tempo(onset_env, sr=sr)\n",
    "\n",
    "print( \"tempo : \", tempo) #(beats per minute)\n",
    "\n",
    "half_measure = 60 / tempo\n",
    "\n",
    "print(half_measure)\n"
   ]
  },
  {
   "cell_type": "code",
   "execution_count": 9,
   "metadata": {
    "collapsed": true
   },
   "outputs": [],
   "source": [
    "#0.394"
   ]
  },
  {
   "cell_type": "code",
   "execution_count": null,
   "metadata": {
    "collapsed": true
   },
   "outputs": [],
   "source": []
  }
 ],
 "metadata": {
  "kernelspec": {
   "display_name": "Python 3",
   "language": "python",
   "name": "python3"
  },
  "language_info": {
   "codemirror_mode": {
    "name": "ipython",
    "version": 3
   },
   "file_extension": ".py",
   "mimetype": "text/x-python",
   "name": "python",
   "nbconvert_exporter": "python",
   "pygments_lexer": "ipython3",
   "version": "3.6.1"
  }
 },
 "nbformat": 4,
 "nbformat_minor": 2
}
