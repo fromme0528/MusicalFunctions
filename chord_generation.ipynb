{
 "cells": [
  {
   "cell_type": "markdown",
   "metadata": {},
   "source": [
    "# Chord Generation Using Markov Chain\n",
    "\n",
    "### - Import Libraries and Make Transition Properties"
   ]
  },
  {
   "cell_type": "raw",
   "metadata": {},
   "source": [
    "This is based on ten Korean Agitation."
   ]
  },
  {
   "cell_type": "code",
   "execution_count": 144,
   "metadata": {},
   "outputs": [],
   "source": [
    "from random import *\n",
    "\n",
    "#c     \n",
    "tp_c_a = {\"c_b\":0.306, \"f_b\":0.361, \"g_b\":0.25, \"g_c\":0.056, \"a_b\":0.028}\n",
    "tp_c_b = {\"c_b\":0.154, \"c_c\":0.026, \"c_d\":0.179, \"e_b\":0.026, \"f_b\":0.103, \"f_c\":0.077, \"g_b\":0.205, \"g_c\":0.128,\"g_d\":0.103}\n",
    "tp_c_c = {\"c_a\":0.25, \"f_a\":0.25 , \"g_b\":0.5}\n",
    "tp_c_d = {\"c_a\":0.636,\"f_a\":0.182, \"g_a\":0.182}\n",
    "#d\n",
    "tp_d_a ={}\n",
    "tp_d_b ={}\n",
    "tp_d_c ={}\n",
    "tp_d_d ={}\n",
    "#e\n",
    "tp_e_a ={}\n",
    "tp_e_b ={\"f_b\":0.5, \"g_b\":0.5}\n",
    "tp_e_c ={}\n",
    "tp_e_d ={}\n",
    "#f\n",
    "tp_f_a ={\"c_a\":0.5,\"e_b\":0.167,\"g_b\":0.333}\n",
    "tp_f_b ={\"c_b\":0.231,\"c_d\":0.231,\"f_b\":0.231,\"f_c\":0.077,\"g_b\":0.038,\"g_c\":0.192}\n",
    "tp_f_c ={\"c_a\":0.833,\"g_b\":0.167}\n",
    "tp_f_d ={}\n",
    "#g\n",
    "tp_g_a ={\"c_b\":1.0}\n",
    "tp_g_b ={\"c_b\":0.296,\"c_c\":0.111,\"c_d\":0.333,\"f_b\":0.074,\"f_c\":0.037,\"g_b\":0.037,\"g_c\":0.111}\n",
    "tp_g_c ={\"c_a\":0.688,\"c_b\":0.125,\"f_a\":0.125,\"g_a\":0.063}\n",
    "tp_g_d ={\"c_a\":1.0}\n",
    "#a\n",
    "tp_a_a ={\"a_a\":1.0}\n",
    "tp_a_b ={\"g_b\":0.333,\"g_c\":0.333,\"a_b\":0.333}\n",
    "tp_a_c ={}\n",
    "tp_a_d ={}\n",
    "#b\n",
    "tp_b_a ={}\n",
    "tp_b_b ={}\n",
    "tp_b_c ={}\n",
    "tp_b_d ={}\n",
    "\n",
    "tp = {\"tp_c_a\":tp_c_a, \"tp_c_b\":tp_c_b, \"tp_c_c\":tp_c_c, \"tp_c_d\":tp_c_d, \"tp_d_a\":tp_d_a, \"tp_d_b\":tp_d_b, \"tp_d_c\":tp_d_c, \"tp_d_d\":tp_d_d, \"tp_e_a\":tp_e_a, \"tp_e_b\":tp_e_b, \"tp_e_c\":tp_e_c, \"tp_e_d\":tp_e_d, \"tp_f_a\":tp_f_a, \"tp_f_b\":tp_f_b, \"tp_f_c\":tp_f_c, \"tp_f_d\":tp_f_d, \"tp_g_a\":tp_g_a, \"tp_g_b\":tp_g_b, \"tp_g_c\":tp_g_c, \"tp_g_d\":tp_g_d, \"tp_a_a\":tp_a_a, \"tp_a_b\":tp_a_b, \"tp_a_c\":tp_a_c, \"tp_a_d\":tp_a_d, \"tp_b_a\":tp_b_a, \"tp_b_b\":tp_b_b, \"tp_b_c\":tp_b_c, \"tp_b_d\":tp_b_d }\n"
   ]
  },
  {
   "cell_type": "markdown",
   "metadata": {},
   "source": [
    "# Generate Chords"
   ]
  },
  {
   "cell_type": "code",
   "execution_count": 161,
   "metadata": {},
   "outputs": [],
   "source": [
    "def randomSelection(dic):\n",
    "    \n",
    "    randf = random()\n",
    "    #shows random property\n",
    "    #print(\"r : \",randf)\n",
    "\n",
    "    if len(dic) == 0:\n",
    "        return \"not found\"\n",
    "    for key in dic:\n",
    "        if float(dic[key]) >= randf-0.001:\n",
    "            return key\n",
    "        else:\n",
    "            randf = randf - float(dic[key])\n",
    "    return \"not found\"\n",
    "\n",
    "def generateChord(chord,state,min_length,max_length, ending = True):\n",
    "    \n",
    "    result = [chord+\"_\"+state]\n",
    "    current_dic = \"tp_\"+chord+\"_\"+state\n",
    "    \n",
    "    for i in range(1,max_length+1):\n",
    "        \n",
    "        new = randomSelection(tp.get(current_dic))\n",
    "        #print(new)\n",
    "        result.append(new)\n",
    "        current_dic = \"tp_\"+ new[0] + \"_\" + new[-1]\n",
    "        #print(current_dic)\n",
    "        if (i >= min_length) and (new[-1] ==\"c\") :\n",
    "            return result\n",
    "\n",
    "    return result\n"
   ]
  },
  {
   "cell_type": "markdown",
   "metadata": {},
   "source": [
    "# Create 1 chord from some chord, state"
   ]
  },
  {
   "cell_type": "code",
   "execution_count": 162,
   "metadata": {},
   "outputs": [
    {
     "data": {
      "text/plain": [
       "'g_b'"
      ]
     },
     "execution_count": 162,
     "metadata": {},
     "output_type": "execute_result"
    }
   ],
   "source": [
    "randomSelection(tp.get(\"tp_c_a\"))"
   ]
  },
  {
   "cell_type": "markdown",
   "metadata": {},
   "source": [
    "# Create chords for 1 song"
   ]
  },
  {
   "cell_type": "code",
   "execution_count": 163,
   "metadata": {},
   "outputs": [
    {
     "name": "stdout",
     "output_type": "stream",
     "text": [
      "1 th Song : \n",
      "['c_a', 'g_b', 'c_b', 'g_c', 'c_a', 'g_b', 'c_b', 'f_b', 'g_c']\n",
      "2 th Song : \n",
      "['c_a', 'f_b', 'f_c', 'g_b', 'g_c', 'c_a', 'c_b', 'f_c', 'c_a', 'c_b', 'g_b', 'c_b', 'g_b', 'c_d', 'c_a', 'g_b', 'c_d', 'f_a', 'e_b', 'g_b', 'g_b', 'c_d', 'g_a', 'c_b', 'g_b']\n",
      "3 th Song : \n",
      "['c_a', 'f_b', 'f_b', 'f_c', 'c_a', 'g_b', 'c_d', 'c_a', 'g_b', 'c_d', 'c_a', 'g_b', 'c_c']\n",
      "4 th Song : \n",
      "['c_a', 'f_b', 'c_b', 'c_b', 'c_d', 'c_a', 'f_b', 'g_c', 'f_a', 'c_a', 'f_b', 'c_b', 'f_c']\n",
      "5 th Song : \n",
      "['c_a', 'g_c', 'c_a', 'g_b', 'c_b', 'c_d', 'g_a', 'c_b', 'c_d', 'c_a', 'g_b', 'c_d', 'g_a', 'c_b', 'g_c']\n",
      "6 th Song : \n",
      "['c_a', 'g_b', 'c_b', 'g_b', 'c_b', 'g_d', 'c_a', 'c_b', 'f_b', 'f_b', 'g_c']\n",
      "7 th Song : \n",
      "['c_a', 'f_b', 'g_c', 'c_b', 'g_d', 'c_a', 'f_b', 'g_c', 'f_a', 'c_a', 'c_b', 'g_b', 'c_d', 'c_a', 'c_b', 'c_b', 'f_c']\n",
      "8 th Song : \n",
      "['c_a', 'f_b', 'f_b', 'c_b', 'g_d', 'c_a', 'f_b', 'g_c', 'c_a', 'g_b', 'c_d', 'c_a', 'c_b', 'f_b', 'f_b', 'f_c']\n",
      "9 th Song : \n",
      "['c_a', 'g_b', 'c_d', 'c_a', 'c_b', 'c_d', 'f_a', 'c_a', 'f_b', 'f_c']\n",
      "10 th Song : \n",
      "['c_a', 'f_b', 'f_c', 'c_a', 'c_b', 'c_d', 'g_a', 'c_b', 'g_b', 'c_b', 'f_c']\n"
     ]
    }
   ],
   "source": [
    "batch = 10\n",
    "min_length = 8\n",
    "max_length = 24\n",
    "ending = True\n",
    "\n",
    "for i in range(1,batch+1):\n",
    "    print(i,\"th Song : \")\n",
    "    print(generateChord(\"c\",\"a\", min_length, max_length, True) )"
   ]
  },
  {
   "cell_type": "code",
   "execution_count": 164,
   "metadata": {},
   "outputs": [
    {
     "ename": "TypeError",
     "evalue": "'float' object is not iterable",
     "output_type": "error",
     "traceback": [
      "\u001b[1;31m---------------------------------------------------------------------------\u001b[0m",
      "\u001b[1;31mTypeError\u001b[0m                                 Traceback (most recent call last)",
      "\u001b[1;32m<ipython-input-164-1241b93ea81e>\u001b[0m in \u001b[0;36m<module>\u001b[1;34m()\u001b[0m\n\u001b[1;32m----> 1\u001b[1;33m \u001b[0mWN\u001b[0m\u001b[1;33m,\u001b[0m \u001b[0mWHOLE_NOTE\u001b[0m \u001b[1;33m=\u001b[0m \u001b[1;36m4.0\u001b[0m\u001b[1;33m\u001b[0m\u001b[0m\n\u001b[0m\u001b[0;32m      2\u001b[0m \u001b[0mDHN\u001b[0m\u001b[1;33m,\u001b[0m \u001b[0mDOTTED_HALF_NOTE\u001b[0m \u001b[1;33m=\u001b[0m \u001b[1;36m3.0\u001b[0m\u001b[1;33m\u001b[0m\u001b[0m\n\u001b[0;32m      3\u001b[0m \u001b[0mDDHN\u001b[0m\u001b[1;33m,\u001b[0m \u001b[0mDOUBLE_DOTTED_HALF_NOTE\u001b[0m \u001b[1;33m=\u001b[0m \u001b[1;36m3.5\u001b[0m\u001b[1;33m\u001b[0m\u001b[0m\n\u001b[0;32m      4\u001b[0m \u001b[0mHN\u001b[0m\u001b[1;33m,\u001b[0m \u001b[0mHALF_NOTE\u001b[0m \u001b[1;33m=\u001b[0m \u001b[1;36m2.0\u001b[0m\u001b[1;33m\u001b[0m\u001b[0m\n\u001b[0;32m      5\u001b[0m \u001b[0mHNT\u001b[0m\u001b[1;33m,\u001b[0m \u001b[0mHALF_NOTE_TRIPLET\u001b[0m \u001b[1;33m=\u001b[0m \u001b[1;36m4.0\u001b[0m\u001b[1;33m/\u001b[0m\u001b[1;36m3.0\u001b[0m\u001b[1;33m\u001b[0m\u001b[0m\n",
      "\u001b[1;31mTypeError\u001b[0m: 'float' object is not iterable"
     ]
    }
   ],
   "source": [
    "WN, WHOLE_NOTE = 4.0\n",
    "DHN, DOTTED_HALF_NOTE = 3.0\n",
    "DDHN, DOUBLE_DOTTED_HALF_NOTE = 3.5\n",
    "HN, HALF_NOTE = 2.0\n",
    "HNT, HALF_NOTE_TRIPLET = 4.0/3.0\n",
    "QN, QUARTER_NOTE = 1.0\n",
    "QNT, QUARTER_NOTE_TRIPLET = 2.0/3.0\n",
    "DQN, DOTTED_QUARTER_NOTE = 1.5\n",
    "DDQN, DOUBLE_DOTTED_QUARTER_NOTE = 1.75\n",
    "EN, EIGHTH_NOTE = 0.5\n",
    "DEN, DOTTED_EIGHTH_NOTE = 0.75\n",
    "ENT, EIGHTH_NOTE_TRIPLET = 1.0/3.0\n",
    "DDEN, DOUBLE_DOTTED_EIGHTH_NOTE = 0.875\n",
    "SN, SIXTEENTH_NOTE = 0.25\n",
    "DSN, DOTTED_SIXTEENTH_NOTE = 0.375\n",
    "SNT, SIXTEENTH_NOTE_TRIPLET = 1.0/6.0\n",
    "TN, THIRTYSECOND_NOTE = 0.125\n",
    "TNT, THIRTYSECOND_NOTE_TRIPLET = 1.0/12.0"
   ]
  },
  {
   "cell_type": "code",
   "execution_count": null,
   "metadata": {
    "collapsed": true
   },
   "outputs": [],
   "source": []
  }
 ],
 "metadata": {
  "kernelspec": {
   "display_name": "Python 3",
   "language": "python",
   "name": "python3"
  },
  "language_info": {
   "codemirror_mode": {
    "name": "ipython",
    "version": 3
   },
   "file_extension": ".py",
   "mimetype": "text/x-python",
   "name": "python",
   "nbconvert_exporter": "python",
   "pygments_lexer": "ipython3",
   "version": "3.6.1"
  }
 },
 "nbformat": 4,
 "nbformat_minor": 2
}
